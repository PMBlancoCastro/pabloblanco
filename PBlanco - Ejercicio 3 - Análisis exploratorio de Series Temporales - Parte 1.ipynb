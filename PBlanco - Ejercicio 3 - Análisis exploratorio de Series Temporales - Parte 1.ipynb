{
 "cells": [
  {
   "cell_type": "markdown",
   "metadata": {},
   "source": [
    "## Ejercicio 1 (Prob 2.1 del libro):\n",
    "\n",
    "Para los datos de Johnson & Johnson (`jj`), considerados como serie $y_t$, considere la transformación $x_t = \\log(y_t)$. Dicha transformación muestra los incrementos relativos o porcentuales (al pasar a logaritmo).\n",
    "\n",
    "1. Ajustar un modelo de la forma:\n",
    "$$x_t = \\beta t + \\sum_{i=1}^4 \\alpha_i Q_i(t) + w_t$$\n",
    "siendo $Q_i$ una función que vale $1$ si se está en el trimestre $i$ y $0$ si no.\n",
    "\n",
    "2. Graficar los datos y superponer los datos ajustados.\n",
    "\n",
    "3. Calcular los residuos y evaluar el ajuste."
   ]
  },
  {
   "cell_type": "markdown",
   "metadata": {},
   "source": [
    "#### Parte 1"
   ]
  },
  {
   "cell_type": "code",
   "execution_count": 2,
   "metadata": {},
   "outputs": [
    {
     "name": "stderr",
     "output_type": "stream",
     "text": [
      "Warning message:\n",
      "\"package 'astsa' was built under R version 3.6.3\""
     ]
    }
   ],
   "source": [
    "library (astsa)\n",
    "\n"
   ]
  },
  {
   "cell_type": "code",
   "execution_count": 3,
   "metadata": {},
   "outputs": [
    {
     "data": {
      "image/png": "[encoded data removed]",
      "text/plain": [
       "plot without title"
      ]
     },
     "metadata": {},
     "output_type": "display_data"
    }
   ],
   "source": [
    "ts.plot(jj, type=\"o\", ylab=\"Quarterly Earnings per Share\") # Grafiquemos la serie"
   ]
  },
  {
   "cell_type": "code",
   "execution_count": 4,
   "metadata": {},
   "outputs": [
    {
     "data": {
      "text/html": [
       "<table>\n",
       "<caption>A Time Series: 21 × 4</caption>\n",
       "<thead>\n",
       "\t<tr><th></th><th scope=col>Qtr1</th><th scope=col>Qtr2</th><th scope=col>Qtr3</th><th scope=col>Qtr4</th></tr>\n",
       "</thead>\n",
       "<tbody>\n",
       "\t<tr><th scope=row>1960</th><td>-10.00</td><td> -9.75</td><td> -9.50</td><td> -9.25</td></tr>\n",
       "\t<tr><th scope=row>1961</th><td> -9.00</td><td> -8.75</td><td> -8.50</td><td> -8.25</td></tr>\n",
       "\t<tr><th scope=row>1962</th><td> -8.00</td><td> -7.75</td><td> -7.50</td><td> -7.25</td></tr>\n",
       "\t<tr><th scope=row>1963</th><td> -7.00</td><td> -6.75</td><td> -6.50</td><td> -6.25</td></tr>\n",
       "\t<tr><th scope=row>1964</th><td> -6.00</td><td> -5.75</td><td> -5.50</td><td> -5.25</td></tr>\n",
       "\t<tr><th scope=row>1965</th><td> -5.00</td><td> -4.75</td><td> -4.50</td><td> -4.25</td></tr>\n",
       "\t<tr><th scope=row>1966</th><td> -4.00</td><td> -3.75</td><td> -3.50</td><td> -3.25</td></tr>\n",
       "\t<tr><th scope=row>1967</th><td> -3.00</td><td> -2.75</td><td> -2.50</td><td> -2.25</td></tr>\n",
       "\t<tr><th scope=row>1968</th><td> -2.00</td><td> -1.75</td><td> -1.50</td><td> -1.25</td></tr>\n",
       "\t<tr><th scope=row>1969</th><td> -1.00</td><td> -0.75</td><td> -0.50</td><td> -0.25</td></tr>\n",
       "\t<tr><th scope=row>1970</th><td>  0.00</td><td>  0.25</td><td>  0.50</td><td>  0.75</td></tr>\n",
       "\t<tr><th scope=row>1971</th><td>  1.00</td><td>  1.25</td><td>  1.50</td><td>  1.75</td></tr>\n",
       "\t<tr><th scope=row>1972</th><td>  2.00</td><td>  2.25</td><td>  2.50</td><td>  2.75</td></tr>\n",
       "\t<tr><th scope=row>1973</th><td>  3.00</td><td>  3.25</td><td>  3.50</td><td>  3.75</td></tr>\n",
       "\t<tr><th scope=row>1974</th><td>  4.00</td><td>  4.25</td><td>  4.50</td><td>  4.75</td></tr>\n",
       "\t<tr><th scope=row>1975</th><td>  5.00</td><td>  5.25</td><td>  5.50</td><td>  5.75</td></tr>\n",
       "\t<tr><th scope=row>1976</th><td>  6.00</td><td>  6.25</td><td>  6.50</td><td>  6.75</td></tr>\n",
       "\t<tr><th scope=row>1977</th><td>  7.00</td><td>  7.25</td><td>  7.50</td><td>  7.75</td></tr>\n",
       "\t<tr><th scope=row>1978</th><td>  8.00</td><td>  8.25</td><td>  8.50</td><td>  8.75</td></tr>\n",
       "\t<tr><th scope=row>1979</th><td>  9.00</td><td>  9.25</td><td>  9.50</td><td>  9.75</td></tr>\n",
       "\t<tr><th scope=row>1980</th><td> 10.00</td><td> 10.25</td><td> 10.50</td><td> 10.75</td></tr>\n",
       "</tbody>\n",
       "</table>\n"
      ],
      "text/latex": [
       "A Time Series: 21 × 4\n",
       "\\begin{tabular}{r|llll}\n",
       "  & Qtr1 & Qtr2 & Qtr3 & Qtr4\\\\\n",
       "\\hline\n",
       "\t1960 & -10.00 &  -9.75 &  -9.50 &  -9.25\\\\\n",
       "\t1961 &  -9.00 &  -8.75 &  -8.50 &  -8.25\\\\\n",
       "\t1962 &  -8.00 &  -7.75 &  -7.50 &  -7.25\\\\\n",
       "\t1963 &  -7.00 &  -6.75 &  -6.50 &  -6.25\\\\\n",
       "\t1964 &  -6.00 &  -5.75 &  -5.50 &  -5.25\\\\\n",
       "\t1965 &  -5.00 &  -4.75 &  -4.50 &  -4.25\\\\\n",
       "\t1966 &  -4.00 &  -3.75 &  -3.50 &  -3.25\\\\\n",
       "\t1967 &  -3.00 &  -2.75 &  -2.50 &  -2.25\\\\\n",
       "\t1968 &  -2.00 &  -1.75 &  -1.50 &  -1.25\\\\\n",
       "\t1969 &  -1.00 &  -0.75 &  -0.50 &  -0.25\\\\\n",
       "\t1970 &   0.00 &   0.25 &   0.50 &   0.75\\\\\n",
       "\t1971 &   1.00 &   1.25 &   1.50 &   1.75\\\\\n",
       "\t1972 &   2.00 &   2.25 &   2.50 &   2.75\\\\\n",
       "\t1973 &   3.00 &   3.25 &   3.50 &   3.75\\\\\n",
       "\t1974 &   4.00 &   4.25 &   4.50 &   4.75\\\\\n",
       "\t1975 &   5.00 &   5.25 &   5.50 &   5.75\\\\\n",
       "\t1976 &   6.00 &   6.25 &   6.50 &   6.75\\\\\n",
       "\t1977 &   7.00 &   7.25 &   7.50 &   7.75\\\\\n",
       "\t1978 &   8.00 &   8.25 &   8.50 &   8.75\\\\\n",
       "\t1979 &   9.00 &   9.25 &   9.50 &   9.75\\\\\n",
       "\t1980 &  10.00 &  10.25 &  10.50 &  10.75\\\\\n",
       "\\end{tabular}\n"
      ],
      "text/markdown": [
       "\n",
       "A Time Series: 21 × 4\n",
       "\n",
       "| <!--/--> | Qtr1 | Qtr2 | Qtr3 | Qtr4 |\n",
       "|---|---|---|---|---|\n",
       "| 1960 | -10.00 |  -9.75 |  -9.50 |  -9.25 |\n",
       "| 1961 |  -9.00 |  -8.75 |  -8.50 |  -8.25 |\n",
       "| 1962 |  -8.00 |  -7.75 |  -7.50 |  -7.25 |\n",
       "| 1963 |  -7.00 |  -6.75 |  -6.50 |  -6.25 |\n",
       "| 1964 |  -6.00 |  -5.75 |  -5.50 |  -5.25 |\n",
       "| 1965 |  -5.00 |  -4.75 |  -4.50 |  -4.25 |\n",
       "| 1966 |  -4.00 |  -3.75 |  -3.50 |  -3.25 |\n",
       "| 1967 |  -3.00 |  -2.75 |  -2.50 |  -2.25 |\n",
       "| 1968 |  -2.00 |  -1.75 |  -1.50 |  -1.25 |\n",
       "| 1969 |  -1.00 |  -0.75 |  -0.50 |  -0.25 |\n",
       "| 1970 |   0.00 |   0.25 |   0.50 |   0.75 |\n",
       "| 1971 |   1.00 |   1.25 |   1.50 |   1.75 |\n",
       "| 1972 |   2.00 |   2.25 |   2.50 |   2.75 |\n",
       "| 1973 |   3.00 |   3.25 |   3.50 |   3.75 |\n",
       "| 1974 |   4.00 |   4.25 |   4.50 |   4.75 |\n",
       "| 1975 |   5.00 |   5.25 |   5.50 |   5.75 |\n",
       "| 1976 |   6.00 |   6.25 |   6.50 |   6.75 |\n",
       "| 1977 |   7.00 |   7.25 |   7.50 |   7.75 |\n",
       "| 1978 |   8.00 |   8.25 |   8.50 |   8.75 |\n",
       "| 1979 |   9.00 |   9.25 |   9.50 |   9.75 |\n",
       "| 1980 |  10.00 |  10.25 |  10.50 |  10.75 |\n",
       "\n"
      ],
      "text/plain": [
       "     Qtr1   Qtr2   Qtr3   Qtr4  \n",
       "1960 -10.00  -9.75  -9.50  -9.25\n",
       "1961  -9.00  -8.75  -8.50  -8.25\n",
       "1962  -8.00  -7.75  -7.50  -7.25\n",
       "1963  -7.00  -6.75  -6.50  -6.25\n",
       "1964  -6.00  -5.75  -5.50  -5.25\n",
       "1965  -5.00  -4.75  -4.50  -4.25\n",
       "1966  -4.00  -3.75  -3.50  -3.25\n",
       "1967  -3.00  -2.75  -2.50  -2.25\n",
       "1968  -2.00  -1.75  -1.50  -1.25\n",
       "1969  -1.00  -0.75  -0.50  -0.25\n",
       "1970   0.00   0.25   0.50   0.75\n",
       "1971   1.00   1.25   1.50   1.75\n",
       "1972   2.00   2.25   2.50   2.75\n",
       "1973   3.00   3.25   3.50   3.75\n",
       "1974   4.00   4.25   4.50   4.75\n",
       "1975   5.00   5.25   5.50   5.75\n",
       "1976   6.00   6.25   6.50   6.75\n",
       "1977   7.00   7.25   7.50   7.75\n",
       "1978   8.00   8.25   8.50   8.75\n",
       "1979   9.00   9.25   9.50   9.75\n",
       "1980  10.00  10.25  10.50  10.75"
      ]
     },
     "metadata": {},
     "output_type": "display_data"
    }
   ],
   "source": [
    "#Centramos la serie\n",
    "\n",
    "trend = time(jj)-1970 \n",
    "trend"
   ]
  },
  {
   "cell_type": "code",
   "execution_count": 5,
   "metadata": {},
   "outputs": [
    {
     "data": {
      "image/png": "[encoded data removed]",
      "text/plain": [
       "plot without title"
      ]
     },
     "metadata": {},
     "output_type": "display_data"
    }
   ],
   "source": [
    "ts.plot(log(jj))"
   ]
  },
  {
   "cell_type": "code",
   "execution_count": 6,
   "metadata": {},
   "outputs": [
    {
     "name": "stdout",
     "output_type": "stream",
     "text": [
      " [1] 1 2 3 4 1 2 3 4 1 2 3 4 1 2 3 4 1 2 3 4 1 2 3 4 1 2 3 4 1 2 3 4 1 2 3 4 1 2\n",
      "[39] 3 4 1 2 3 4 1 2 3 4 1 2 3 4 1 2 3 4 1 2 3 4 1 2 3 4 1 2 3 4 1 2 3 4 1 2 3 4\n",
      "[77] 1 2 3 4 1 2 3 4\n",
      "Levels: 1 2 3 4\n"
     ]
    }
   ],
   "source": [
    "# Definimos Q para poder desagregar la información por quarters de cara al análisis\n",
    "\n",
    "Q= factor(cycle(jj))\n",
    "print(Q)"
   ]
  },
  {
   "cell_type": "code",
   "execution_count": 7,
   "metadata": {},
   "outputs": [],
   "source": [
    "#Aplicamos log(jj) para obtener aumentos porcentuales\n",
    "jjfit1 = lm(log(jj) ~ 0 + trend + Q, na.action=NULL) "
   ]
  },
  {
   "cell_type": "code",
   "execution_count": 8,
   "metadata": {},
   "outputs": [
    {
     "data": {
      "text/plain": [
       "\n",
       "Call:\n",
       "lm(formula = log(jj) ~ 0 + trend + Q, na.action = NULL)\n",
       "\n",
       "Residuals:\n",
       "     Min       1Q   Median       3Q      Max \n",
       "-0.29318 -0.09062 -0.01180  0.08460  0.27644 \n",
       "\n",
       "Coefficients:\n",
       "      Estimate Std. Error t value Pr(>|t|)    \n",
       "trend 0.167172   0.002259   74.00   <2e-16 ***\n",
       "Q1    1.052793   0.027359   38.48   <2e-16 ***\n",
       "Q2    1.080916   0.027365   39.50   <2e-16 ***\n",
       "Q3    1.151024   0.027383   42.03   <2e-16 ***\n",
       "Q4    0.882266   0.027412   32.19   <2e-16 ***\n",
       "---\n",
       "Signif. codes:  0 '***' 0.001 '**' 0.01 '*' 0.05 '.' 0.1 ' ' 1\n",
       "\n",
       "Residual standard error: 0.1254 on 79 degrees of freedom\n",
       "Multiple R-squared:  0.9935,\tAdjusted R-squared:  0.9931 \n",
       "F-statistic:  2407 on 5 and 79 DF,  p-value: < 2.2e-16\n"
      ]
     },
     "metadata": {},
     "output_type": "display_data"
    }
   ],
   "source": [
    "summary(jjfit1)"
   ]
  },
  {
   "cell_type": "code",
   "execution_count": 9,
   "metadata": {
    "scrolled": false
   },
   "outputs": [
    {
     "data": {
      "image/png": "[encoded data removed]",
      "text/plain": [
       "plot without title"
      ]
     },
     "metadata": {},
     "output_type": "display_data"
    }
   ],
   "source": [
    "pred = ts(fitted(jjfit1), start=1960, frequency=4)\n",
    "tsplot(pred, col= \"springgreen3\")\n",
    "lines(log(jj))"
   ]
  },
  {
   "cell_type": "code",
   "execution_count": 10,
   "metadata": {
    "scrolled": false
   },
   "outputs": [
    {
     "data": {
      "image/png": "[encoded data removed]",
      "text/plain": [
       "plot without title"
      ]
     },
     "metadata": {},
     "output_type": "display_data"
    }
   ],
   "source": [
    "residuals = residuals(jjfit1)\n",
    "\n",
    "plot(residuals)"
   ]
  },
  {
   "cell_type": "code",
   "execution_count": 11,
   "metadata": {},
   "outputs": [
    {
     "data": {
      "image/png": "[encoded data removed]",
      "text/plain": [
       "Plot with title \"Normal Q-Q Plot\""
      ]
     },
     "metadata": {},
     "output_type": "display_data"
    }
   ],
   "source": [
    "qqnorm(residuals)\n",
    "qqline(residuals)"
   ]
  },
  {
   "cell_type": "code",
   "execution_count": 12,
   "metadata": {},
   "outputs": [
    {
     "data": {
      "text/html": [
       "<table>\n",
       "<caption>A matrix: 2 × 20 of type dbl</caption>\n",
       "<tbody>\n",
       "\t<tr><th scope=row>ACF</th><td>0.31</td><td>0.35</td><td>0.17</td><td>0.60</td><td> 0.21</td><td> 0.21</td><td>0.12</td><td>0.37</td><td> 0.09</td><td> 0.03</td><td>-0.09</td><td>0.14</td><td>0.01</td><td>-0.07</td><td>-0.15</td><td>-0.01</td><td>0.01</td><td>-0.13</td><td>-0.17</td><td>-0.11</td></tr>\n",
       "\t<tr><th scope=row>PACF</th><td>0.31</td><td>0.28</td><td>0.01</td><td>0.56</td><td>-0.13</td><td>-0.12</td><td>0.11</td><td>0.01</td><td>-0.14</td><td>-0.11</td><td>-0.18</td><td>0.02</td><td>0.07</td><td>-0.09</td><td> 0.03</td><td>-0.04</td><td>0.11</td><td>-0.05</td><td>-0.05</td><td>-0.04</td></tr>\n",
       "</tbody>\n",
       "</table>\n"
      ],
      "text/latex": [
       "A matrix: 2 × 20 of type dbl\n",
       "\\begin{tabular}{r|llllllllllllllllllll}\n",
       "\tACF & 0.31 & 0.35 & 0.17 & 0.60 &  0.21 &  0.21 & 0.12 & 0.37 &  0.09 &  0.03 & -0.09 & 0.14 & 0.01 & -0.07 & -0.15 & -0.01 & 0.01 & -0.13 & -0.17 & -0.11\\\\\n",
       "\tPACF & 0.31 & 0.28 & 0.01 & 0.56 & -0.13 & -0.12 & 0.11 & 0.01 & -0.14 & -0.11 & -0.18 & 0.02 & 0.07 & -0.09 &  0.03 & -0.04 & 0.11 & -0.05 & -0.05 & -0.04\\\\\n",
       "\\end{tabular}\n"
      ],
      "text/markdown": [
       "\n",
       "A matrix: 2 × 20 of type dbl\n",
       "\n",
       "| ACF | 0.31 | 0.35 | 0.17 | 0.60 |  0.21 |  0.21 | 0.12 | 0.37 |  0.09 |  0.03 | -0.09 | 0.14 | 0.01 | -0.07 | -0.15 | -0.01 | 0.01 | -0.13 | -0.17 | -0.11 |\n",
       "| PACF | 0.31 | 0.28 | 0.01 | 0.56 | -0.13 | -0.12 | 0.11 | 0.01 | -0.14 | -0.11 | -0.18 | 0.02 | 0.07 | -0.09 |  0.03 | -0.04 | 0.11 | -0.05 | -0.05 | -0.04 |\n",
       "\n"
      ],
      "text/plain": [
       "     [,1] [,2] [,3] [,4] [,5]  [,6]  [,7] [,8] [,9]  [,10] [,11] [,12] [,13]\n",
       "ACF  0.31 0.35 0.17 0.60  0.21  0.21 0.12 0.37  0.09  0.03 -0.09 0.14  0.01 \n",
       "PACF 0.31 0.28 0.01 0.56 -0.13 -0.12 0.11 0.01 -0.14 -0.11 -0.18 0.02  0.07 \n",
       "     [,14] [,15] [,16] [,17] [,18] [,19] [,20]\n",
       "ACF  -0.07 -0.15 -0.01 0.01  -0.13 -0.17 -0.11\n",
       "PACF -0.09  0.03 -0.04 0.11  -0.05 -0.05 -0.04"
      ]
     },
     "metadata": {},
     "output_type": "display_data"
    },
    {
     "data": {
      "image/png": "[encoded data removed]",
      "text/plain": [
       "Plot with title \"Series:  residuals\""
      ]
     },
     "metadata": {},
     "output_type": "display_data"
    }
   ],
   "source": [
    "acf2(residuals)"
   ]
  },
  {
   "cell_type": "markdown",
   "metadata": {},
   "source": [
    "Por lo que podemos observar, tanto en el gráfico de resiudos, su QQplot y el análisis de los ACF y PACF, el ajuste que realizamos con el modelo jjfit1 todavía no capta la totalidad de componentes de la serie, dejando de lado lo que parece ser una estacionalidad anual. "
   ]
  },
  {
   "cell_type": "markdown",
   "metadata": {},
   "source": [
    "En detalle, vemos que los residuos graficados no son ruido blanco, que el QQplot no ajusta de buena forma y que en el ACF y PACF vemos todavía indicadores que permanecen fuera de los intervalos de confianza."
   ]
  },
  {
   "cell_type": "markdown",
   "metadata": {},
   "source": [
    "### Ejercicio 2 (ajuste de una señal):\n",
    "\n",
    "Considere la señal generada más abajo, que consiste en una componente periódica más ruido. \n",
    "\n",
    "1. Ajuste un modelo de la forma:\n",
    "$$x_t = \\beta_1 + \\beta_2 \\cos(2\\pi t) + \\beta_3 \\sin(2\\pi t).$$\n",
    "\n",
    "2. Ajuste un modelo de la forma:\n",
    "$$x_t = \\beta_1 + \\beta_2 \\cos(2\\pi t) + \\beta_3 \\sin(2\\pi t) + \\beta_4 \\cos(2*\\pi 2t) + \\beta_5 \\sin(2\\pi 2t).$$\n",
    "¿Qué captura este segundo modelo?\n",
    "\n",
    "3. Compare los residuos y los ajustes en cada uno."
   ]
  },
  {
   "cell_type": "code",
   "execution_count": 13,
   "metadata": {},
   "outputs": [
    {
     "data": {
      "image/png": "[encoded data removed]",
      "text/plain": [
       "plot without title"
      ]
     },
     "metadata": {},
     "output_type": "display_data"
    }
   ],
   "source": [
    "#Definimos la serie a modelar\n",
    "\n",
    "t=seq(0,10, by=0.05)\n",
    "\n",
    "s_2 = cos(2*pi*t) + sin(2*pi*t) + 0.5*cos(2*pi*2*t)\n",
    "w_2=rnorm(length(t),0,0.2)\n",
    "datos=s_2+w_2;\n",
    "x_2 = ts(datos,start=0,frequency=20)\n",
    "tsplot(x_2, lwd=2)"
   ]
  },
  {
   "cell_type": "code",
   "execution_count": 14,
   "metadata": {},
   "outputs": [
    {
     "data": {
      "text/html": [
       "A Time Series:<br><style>\n",
       ".list-inline {list-style: none; margin:0; padding: 0}\n",
       ".list-inline>li {display: inline-block}\n",
       ".list-inline>li:not(:last-child)::after {content: \"\\00b7\"; padding: 0 .5ex}\n",
       "</style>\n",
       "<ol class=list-inline><li>0</li><li>0.05</li><li>0.1</li><li>0.15</li><li>0.2</li><li>0.25</li><li>0.3</li><li>0.35</li><li>0.4</li><li>0.45</li><li>0.5</li><li>0.55</li><li>0.6</li><li>0.65</li><li>0.7</li><li>0.75</li><li>0.8</li><li>0.85</li><li>0.9</li><li>0.95</li><li>1</li><li>1.05</li><li>1.1</li><li>1.15</li><li>1.2</li><li>1.25</li><li>1.3</li><li>1.35</li><li>1.4</li><li>1.45</li><li>1.5</li><li>1.55</li><li>1.6</li><li>1.65</li><li>1.7</li><li>1.75</li><li>1.8</li><li>1.85</li><li>1.9</li><li>1.95</li><li>2</li><li>2.05</li><li>2.1</li><li>2.15</li><li>2.2</li><li>2.25</li><li>2.3</li><li>2.35</li><li>2.4</li><li>2.45</li><li>2.5</li><li>2.55</li><li>2.6</li><li>2.65</li><li>2.7</li><li>2.75</li><li>2.8</li><li>2.85</li><li>2.9</li><li>2.95</li><li>3</li><li>3.05</li><li>3.1</li><li>3.15</li><li>3.2</li><li>3.25</li><li>3.3</li><li>3.35</li><li>3.4</li><li>3.45</li><li>3.5</li><li>3.55</li><li>3.6</li><li>3.65</li><li>3.7</li><li>3.75</li><li>3.8</li><li>3.85</li><li>3.9</li><li>3.95</li><li>4</li><li>4.05</li><li>4.1</li><li>4.15</li><li>4.2</li><li>4.25</li><li>4.3</li><li>4.35</li><li>4.4</li><li>4.45</li><li>4.5</li><li>4.55</li><li>4.6</li><li>4.65</li><li>4.7</li><li>4.75</li><li>4.8</li><li>4.85</li><li>4.9</li><li>4.95</li><li>5</li><li>5.05</li><li>5.1</li><li>5.15</li><li>5.2</li><li>5.25</li><li>5.3</li><li>5.35</li><li>5.4</li><li>5.45</li><li>5.5</li><li>5.55</li><li>5.6</li><li>5.65</li><li>5.7</li><li>5.75</li><li>5.8</li><li>5.85</li><li>5.9</li><li>5.95</li><li>6</li><li>6.05</li><li>6.1</li><li>6.15</li><li>6.2</li><li>6.25</li><li>6.3</li><li>6.35</li><li>6.4</li><li>6.45</li><li>6.5</li><li>6.55</li><li>6.6</li><li>6.65</li><li>6.7</li><li>6.75</li><li>6.8</li><li>6.85</li><li>6.9</li><li>6.95</li><li>7</li><li>7.05</li><li>7.1</li><li>7.15</li><li>7.2</li><li>7.25</li><li>7.3</li><li>7.35</li><li>7.4</li><li>7.45</li><li>7.5</li><li>7.55</li><li>7.6</li><li>7.65</li><li>7.7</li><li>7.75</li><li>7.8</li><li>7.85</li><li>7.9</li><li>7.95</li><li>8</li><li>8.05</li><li>8.1</li><li>8.15</li><li>8.2</li><li>8.25</li><li>8.3</li><li>8.35</li><li>8.4</li><li>8.45</li><li>8.5</li><li>8.55</li><li>8.6</li><li>8.65</li><li>8.7</li><li>8.75</li><li>8.8</li><li>8.85</li><li>8.9</li><li>8.95</li><li>9</li><li>9.05</li><li>9.1</li><li>9.15</li><li>9.2</li><li>9.25</li><li>9.3</li><li>9.35</li><li>9.4</li><li>9.45</li><li>9.5</li><li>9.55</li><li>9.6</li><li>9.65</li><li>9.7</li><li>9.75</li><li>9.8</li><li>9.85</li><li>9.9</li><li>9.95</li><li>10</li></ol>\n"
      ],
      "text/latex": [
       "A Time Series:\\\\\\begin{enumerate*}\n",
       "\\item 0\n",
       "\\item 0.05\n",
       "\\item 0.1\n",
       "\\item 0.15\n",
       "\\item 0.2\n",
       "\\item 0.25\n",
       "\\item 0.3\n",
       "\\item 0.35\n",
       "\\item 0.4\n",
       "\\item 0.45\n",
       "\\item 0.5\n",
       "\\item 0.55\n",
       "\\item 0.6\n",
       "\\item 0.65\n",
       "\\item 0.7\n",
       "\\item 0.75\n",
       "\\item 0.8\n",
       "\\item 0.85\n",
       "\\item 0.9\n",
       "\\item 0.95\n",
       "\\item 1\n",
       "\\item 1.05\n",
       "\\item 1.1\n",
       "\\item 1.15\n",
       "\\item 1.2\n",
       "\\item 1.25\n",
       "\\item 1.3\n",
       "\\item 1.35\n",
       "\\item 1.4\n",
       "\\item 1.45\n",
       "\\item 1.5\n",
       "\\item 1.55\n",
       "\\item 1.6\n",
       "\\item 1.65\n",
       "\\item 1.7\n",
       "\\item 1.75\n",
       "\\item 1.8\n",
       "\\item 1.85\n",
       "\\item 1.9\n",
       "\\item 1.95\n",
       "\\item 2\n",
       "\\item 2.05\n",
       "\\item 2.1\n",
       "\\item 2.15\n",
       "\\item 2.2\n",
       "\\item 2.25\n",
       "\\item 2.3\n",
       "\\item 2.35\n",
       "\\item 2.4\n",
       "\\item 2.45\n",
       "\\item 2.5\n",
       "\\item 2.55\n",
       "\\item 2.6\n",
       "\\item 2.65\n",
       "\\item 2.7\n",
       "\\item 2.75\n",
       "\\item 2.8\n",
       "\\item 2.85\n",
       "\\item 2.9\n",
       "\\item 2.95\n",
       "\\item 3\n",
       "\\item 3.05\n",
       "\\item 3.1\n",
       "\\item 3.15\n",
       "\\item 3.2\n",
       "\\item 3.25\n",
       "\\item 3.3\n",
       "\\item 3.35\n",
       "\\item 3.4\n",
       "\\item 3.45\n",
       "\\item 3.5\n",
       "\\item 3.55\n",
       "\\item 3.6\n",
       "\\item 3.65\n",
       "\\item 3.7\n",
       "\\item 3.75\n",
       "\\item 3.8\n",
       "\\item 3.85\n",
       "\\item 3.9\n",
       "\\item 3.95\n",
       "\\item 4\n",
       "\\item 4.05\n",
       "\\item 4.1\n",
       "\\item 4.15\n",
       "\\item 4.2\n",
       "\\item 4.25\n",
       "\\item 4.3\n",
       "\\item 4.35\n",
       "\\item 4.4\n",
       "\\item 4.45\n",
       "\\item 4.5\n",
       "\\item 4.55\n",
       "\\item 4.6\n",
       "\\item 4.65\n",
       "\\item 4.7\n",
       "\\item 4.75\n",
       "\\item 4.8\n",
       "\\item 4.85\n",
       "\\item 4.9\n",
       "\\item 4.95\n",
       "\\item 5\n",
       "\\item 5.05\n",
       "\\item 5.1\n",
       "\\item 5.15\n",
       "\\item 5.2\n",
       "\\item 5.25\n",
       "\\item 5.3\n",
       "\\item 5.35\n",
       "\\item 5.4\n",
       "\\item 5.45\n",
       "\\item 5.5\n",
       "\\item 5.55\n",
       "\\item 5.6\n",
       "\\item 5.65\n",
       "\\item 5.7\n",
       "\\item 5.75\n",
       "\\item 5.8\n",
       "\\item 5.85\n",
       "\\item 5.9\n",
       "\\item 5.95\n",
       "\\item 6\n",
       "\\item 6.05\n",
       "\\item 6.1\n",
       "\\item 6.15\n",
       "\\item 6.2\n",
       "\\item 6.25\n",
       "\\item 6.3\n",
       "\\item 6.35\n",
       "\\item 6.4\n",
       "\\item 6.45\n",
       "\\item 6.5\n",
       "\\item 6.55\n",
       "\\item 6.6\n",
       "\\item 6.65\n",
       "\\item 6.7\n",
       "\\item 6.75\n",
       "\\item 6.8\n",
       "\\item 6.85\n",
       "\\item 6.9\n",
       "\\item 6.95\n",
       "\\item 7\n",
       "\\item 7.05\n",
       "\\item 7.1\n",
       "\\item 7.15\n",
       "\\item 7.2\n",
       "\\item 7.25\n",
       "\\item 7.3\n",
       "\\item 7.35\n",
       "\\item 7.4\n",
       "\\item 7.45\n",
       "\\item 7.5\n",
       "\\item 7.55\n",
       "\\item 7.6\n",
       "\\item 7.65\n",
       "\\item 7.7\n",
       "\\item 7.75\n",
       "\\item 7.8\n",
       "\\item 7.85\n",
       "\\item 7.9\n",
       "\\item 7.95\n",
       "\\item 8\n",
       "\\item 8.05\n",
       "\\item 8.1\n",
       "\\item 8.15\n",
       "\\item 8.2\n",
       "\\item 8.25\n",
       "\\item 8.3\n",
       "\\item 8.35\n",
       "\\item 8.4\n",
       "\\item 8.45\n",
       "\\item 8.5\n",
       "\\item 8.55\n",
       "\\item 8.6\n",
       "\\item 8.65\n",
       "\\item 8.7\n",
       "\\item 8.75\n",
       "\\item 8.8\n",
       "\\item 8.85\n",
       "\\item 8.9\n",
       "\\item 8.95\n",
       "\\item 9\n",
       "\\item 9.05\n",
       "\\item 9.1\n",
       "\\item 9.15\n",
       "\\item 9.2\n",
       "\\item 9.25\n",
       "\\item 9.3\n",
       "\\item 9.35\n",
       "\\item 9.4\n",
       "\\item 9.45\n",
       "\\item 9.5\n",
       "\\item 9.55\n",
       "\\item 9.6\n",
       "\\item 9.65\n",
       "\\item 9.7\n",
       "\\item 9.75\n",
       "\\item 9.8\n",
       "\\item 9.85\n",
       "\\item 9.9\n",
       "\\item 9.95\n",
       "\\item 10\n",
       "\\end{enumerate*}\n"
      ],
      "text/markdown": [
       "A Time Series:  \n",
       "1. 0\n",
       "2. 0.05\n",
       "3. 0.1\n",
       "4. 0.15\n",
       "5. 0.2\n",
       "6. 0.25\n",
       "7. 0.3\n",
       "8. 0.35\n",
       "9. 0.4\n",
       "10. 0.45\n",
       "11. 0.5\n",
       "12. 0.55\n",
       "13. 0.6\n",
       "14. 0.65\n",
       "15. 0.7\n",
       "16. 0.75\n",
       "17. 0.8\n",
       "18. 0.85\n",
       "19. 0.9\n",
       "20. 0.95\n",
       "21. 1\n",
       "22. 1.05\n",
       "23. 1.1\n",
       "24. 1.15\n",
       "25. 1.2\n",
       "26. 1.25\n",
       "27. 1.3\n",
       "28. 1.35\n",
       "29. 1.4\n",
       "30. 1.45\n",
       "31. 1.5\n",
       "32. 1.55\n",
       "33. 1.6\n",
       "34. 1.65\n",
       "35. 1.7\n",
       "36. 1.75\n",
       "37. 1.8\n",
       "38. 1.85\n",
       "39. 1.9\n",
       "40. 1.95\n",
       "41. 2\n",
       "42. 2.05\n",
       "43. 2.1\n",
       "44. 2.15\n",
       "45. 2.2\n",
       "46. 2.25\n",
       "47. 2.3\n",
       "48. 2.35\n",
       "49. 2.4\n",
       "50. 2.45\n",
       "51. 2.5\n",
       "52. 2.55\n",
       "53. 2.6\n",
       "54. 2.65\n",
       "55. 2.7\n",
       "56. 2.75\n",
       "57. 2.8\n",
       "58. 2.85\n",
       "59. 2.9\n",
       "60. 2.95\n",
       "61. 3\n",
       "62. 3.05\n",
       "63. 3.1\n",
       "64. 3.15\n",
       "65. 3.2\n",
       "66. 3.25\n",
       "67. 3.3\n",
       "68. 3.35\n",
       "69. 3.4\n",
       "70. 3.45\n",
       "71. 3.5\n",
       "72. 3.55\n",
       "73. 3.6\n",
       "74. 3.65\n",
       "75. 3.7\n",
       "76. 3.75\n",
       "77. 3.8\n",
       "78. 3.85\n",
       "79. 3.9\n",
       "80. 3.95\n",
       "81. 4\n",
       "82. 4.05\n",
       "83. 4.1\n",
       "84. 4.15\n",
       "85. 4.2\n",
       "86. 4.25\n",
       "87. 4.3\n",
       "88. 4.35\n",
       "89. 4.4\n",
       "90. 4.45\n",
       "91. 4.5\n",
       "92. 4.55\n",
       "93. 4.6\n",
       "94. 4.65\n",
       "95. 4.7\n",
       "96. 4.75\n",
       "97. 4.8\n",
       "98. 4.85\n",
       "99. 4.9\n",
       "100. 4.95\n",
       "101. 5\n",
       "102. 5.05\n",
       "103. 5.1\n",
       "104. 5.15\n",
       "105. 5.2\n",
       "106. 5.25\n",
       "107. 5.3\n",
       "108. 5.35\n",
       "109. 5.4\n",
       "110. 5.45\n",
       "111. 5.5\n",
       "112. 5.55\n",
       "113. 5.6\n",
       "114. 5.65\n",
       "115. 5.7\n",
       "116. 5.75\n",
       "117. 5.8\n",
       "118. 5.85\n",
       "119. 5.9\n",
       "120. 5.95\n",
       "121. 6\n",
       "122. 6.05\n",
       "123. 6.1\n",
       "124. 6.15\n",
       "125. 6.2\n",
       "126. 6.25\n",
       "127. 6.3\n",
       "128. 6.35\n",
       "129. 6.4\n",
       "130. 6.45\n",
       "131. 6.5\n",
       "132. 6.55\n",
       "133. 6.6\n",
       "134. 6.65\n",
       "135. 6.7\n",
       "136. 6.75\n",
       "137. 6.8\n",
       "138. 6.85\n",
       "139. 6.9\n",
       "140. 6.95\n",
       "141. 7\n",
       "142. 7.05\n",
       "143. 7.1\n",
       "144. 7.15\n",
       "145. 7.2\n",
       "146. 7.25\n",
       "147. 7.3\n",
       "148. 7.35\n",
       "149. 7.4\n",
       "150. 7.45\n",
       "151. 7.5\n",
       "152. 7.55\n",
       "153. 7.6\n",
       "154. 7.65\n",
       "155. 7.7\n",
       "156. 7.75\n",
       "157. 7.8\n",
       "158. 7.85\n",
       "159. 7.9\n",
       "160. 7.95\n",
       "161. 8\n",
       "162. 8.05\n",
       "163. 8.1\n",
       "164. 8.15\n",
       "165. 8.2\n",
       "166. 8.25\n",
       "167. 8.3\n",
       "168. 8.35\n",
       "169. 8.4\n",
       "170. 8.45\n",
       "171. 8.5\n",
       "172. 8.55\n",
       "173. 8.6\n",
       "174. 8.65\n",
       "175. 8.7\n",
       "176. 8.75\n",
       "177. 8.8\n",
       "178. 8.85\n",
       "179. 8.9\n",
       "180. 8.95\n",
       "181. 9\n",
       "182. 9.05\n",
       "183. 9.1\n",
       "184. 9.15\n",
       "185. 9.2\n",
       "186. 9.25\n",
       "187. 9.3\n",
       "188. 9.35\n",
       "189. 9.4\n",
       "190. 9.45\n",
       "191. 9.5\n",
       "192. 9.55\n",
       "193. 9.6\n",
       "194. 9.65\n",
       "195. 9.7\n",
       "196. 9.75\n",
       "197. 9.8\n",
       "198. 9.85\n",
       "199. 9.9\n",
       "200. 9.95\n",
       "201. 10\n",
       "\n",
       "\n"
      ],
      "text/plain": [
       "A Time Series:\n",
       "  [1]  0.00  0.05  0.10  0.15  0.20  0.25  0.30  0.35  0.40  0.45  0.50  0.55\n",
       " [13]  0.60  0.65  0.70  0.75  0.80  0.85  0.90  0.95  1.00  1.05  1.10  1.15\n",
       " [25]  1.20  1.25  1.30  1.35  1.40  1.45  1.50  1.55  1.60  1.65  1.70  1.75\n",
       " [37]  1.80  1.85  1.90  1.95  2.00  2.05  2.10  2.15  2.20  2.25  2.30  2.35\n",
       " [49]  2.40  2.45  2.50  2.55  2.60  2.65  2.70  2.75  2.80  2.85  2.90  2.95\n",
       " [61]  3.00  3.05  3.10  3.15  3.20  3.25  3.30  3.35  3.40  3.45  3.50  3.55\n",
       " [73]  3.60  3.65  3.70  3.75  3.80  3.85  3.90  3.95  4.00  4.05  4.10  4.15\n",
       " [85]  4.20  4.25  4.30  4.35  4.40  4.45  4.50  4.55  4.60  4.65  4.70  4.75\n",
       " [97]  4.80  4.85  4.90  4.95  5.00  5.05  5.10  5.15  5.20  5.25  5.30  5.35\n",
       "[109]  5.40  5.45  5.50  5.55  5.60  5.65  5.70  5.75  5.80  5.85  5.90  5.95\n",
       "[121]  6.00  6.05  6.10  6.15  6.20  6.25  6.30  6.35  6.40  6.45  6.50  6.55\n",
       "[133]  6.60  6.65  6.70  6.75  6.80  6.85  6.90  6.95  7.00  7.05  7.10  7.15\n",
       "[145]  7.20  7.25  7.30  7.35  7.40  7.45  7.50  7.55  7.60  7.65  7.70  7.75\n",
       "[157]  7.80  7.85  7.90  7.95  8.00  8.05  8.10  8.15  8.20  8.25  8.30  8.35\n",
       "[169]  8.40  8.45  8.50  8.55  8.60  8.65  8.70  8.75  8.80  8.85  8.90  8.95\n",
       "[181]  9.00  9.05  9.10  9.15  9.20  9.25  9.30  9.35  9.40  9.45  9.50  9.55\n",
       "[193]  9.60  9.65  9.70  9.75  9.80  9.85  9.90  9.95 10.00"
      ]
     },
     "metadata": {},
     "output_type": "display_data"
    }
   ],
   "source": [
    "trend2 = time(x_2)\n",
    "trend2"
   ]
  },
  {
   "cell_type": "markdown",
   "metadata": {},
   "source": [
    "#### 1. Ajuste del modelo de la forma:  𝑥𝑡=𝛽1+𝛽2cos(2𝜋𝑡)+𝛽3sin(2𝜋𝑡)."
   ]
  },
  {
   "cell_type": "code",
   "execution_count": 16,
   "metadata": {},
   "outputs": [
    {
     "data": {
      "text/plain": [
       "\n",
       "Call:\n",
       "lm(formula = x_2 ~ 0 + cos(2 * pi * t) + sin(2 * pi * t), na.action = NULL)\n",
       "\n",
       "Residuals:\n",
       "     Min       1Q   Median       3Q      Max \n",
       "-0.89959 -0.32374  0.01278  0.33376  0.89375 \n",
       "\n",
       "Coefficients:\n",
       "                Estimate Std. Error t value Pr(>|t|)    \n",
       "cos(2 * pi * t)  0.99162    0.04086   24.27   <2e-16 ***\n",
       "sin(2 * pi * t)  1.01761    0.04106   24.78   <2e-16 ***\n",
       "---\n",
       "Signif. codes:  0 '***' 0.001 '**' 0.01 '*' 0.05 '.' 0.1 ' ' 1\n",
       "\n",
       "Residual standard error: 0.4106 on 199 degrees of freedom\n",
       "Multiple R-squared:  0.8581,\tAdjusted R-squared:  0.8567 \n",
       "F-statistic: 601.6 on 2 and 199 DF,  p-value: < 2.2e-16\n"
      ]
     },
     "metadata": {},
     "output_type": "display_data"
    }
   ],
   "source": [
    "# Planteo el modelo lineal usando la función lm \n",
    "\n",
    "fit2 = lm(x_2 ~ 0 + cos(2*pi*t) + sin(2*pi*t), na.action=NULL)\n",
    "\n",
    "summary(fit2)"
   ]
  },
  {
   "cell_type": "code",
   "execution_count": 17,
   "metadata": {
    "scrolled": false
   },
   "outputs": [
    {
     "data": {
      "image/png": "[encoded data removed]",
      "text/plain": [
       "plot without title"
      ]
     },
     "metadata": {},
     "output_type": "display_data"
    }
   ],
   "source": [
    "predictions = ts(fitted(fit2), start = 0, frequency=20) #Creo una serie temporal con los valores ajustados.\n",
    "tsplot(x_2)\n",
    "lines(predictions, col=\"springgreen3\", lwd=2)"
   ]
  },
  {
   "cell_type": "code",
   "execution_count": 19,
   "metadata": {},
   "outputs": [
    {
     "data": {
      "image/png": "[encoded data removed]",
      "text/plain": [
       "plot without title"
      ]
     },
     "metadata": {},
     "output_type": "display_data"
    }
   ],
   "source": [
    "#Analizamos los residuos\n",
    "\n",
    "residuals2=residuals(fit2)\n",
    "\n",
    "tsplot(residuals2)"
   ]
  },
  {
   "cell_type": "code",
   "execution_count": 20,
   "metadata": {
    "scrolled": false
   },
   "outputs": [
    {
     "data": {
      "image/png": "[encoded data removed]",
      "text/plain": [
       "Plot with title \"Normal Q-Q Plot\""
      ]
     },
     "metadata": {},
     "output_type": "display_data"
    }
   ],
   "source": [
    "qqnorm(residuals2)\n",
    "qqline(residuals2)"
   ]
  },
  {
   "cell_type": "code",
   "execution_count": 21,
   "metadata": {},
   "outputs": [
    {
     "data": {
      "text/html": [
       "<table>\n",
       "<caption>A matrix: 2 × 80 of type dbl</caption>\n",
       "<tbody>\n",
       "\t<tr><th scope=row>ACF</th><td>0.59</td><td> 0.19</td><td>-0.19</td><td>-0.58</td><td>-0.74</td><td>-0.58</td><td>-0.20</td><td>0.22</td><td>0.53</td><td>0.69</td><td>...</td><td> 0.34</td><td>0.10</td><td>-0.17</td><td>-0.35</td><td>-0.42</td><td>-0.33</td><td>-0.08</td><td>0.18</td><td> 0.35</td><td>0.42</td></tr>\n",
       "\t<tr><th scope=row>PACF</th><td>0.59</td><td>-0.26</td><td>-0.29</td><td>-0.49</td><td>-0.38</td><td>-0.21</td><td> 0.04</td><td>0.08</td><td>0.05</td><td>0.13</td><td>...</td><td>-0.11</td><td>0.03</td><td>-0.02</td><td> 0.00</td><td> 0.03</td><td> 0.01</td><td>-0.03</td><td>0.03</td><td>-0.03</td><td>0.00</td></tr>\n",
       "</tbody>\n",
       "</table>\n"
      ],
      "text/latex": [
       "A matrix: 2 × 80 of type dbl\n",
       "\\begin{tabular}{r|lllllllllllllllllllll}\n",
       "\tACF & 0.59 &  0.19 & -0.19 & -0.58 & -0.74 & -0.58 & -0.20 & 0.22 & 0.53 & 0.69 & ... &  0.34 & 0.10 & -0.17 & -0.35 & -0.42 & -0.33 & -0.08 & 0.18 &  0.35 & 0.42\\\\\n",
       "\tPACF & 0.59 & -0.26 & -0.29 & -0.49 & -0.38 & -0.21 &  0.04 & 0.08 & 0.05 & 0.13 & ... & -0.11 & 0.03 & -0.02 &  0.00 &  0.03 &  0.01 & -0.03 & 0.03 & -0.03 & 0.00\\\\\n",
       "\\end{tabular}\n"
      ],
      "text/markdown": [
       "\n",
       "A matrix: 2 × 80 of type dbl\n",
       "\n",
       "| ACF | 0.59 |  0.19 | -0.19 | -0.58 | -0.74 | -0.58 | -0.20 | 0.22 | 0.53 | 0.69 | ... |  0.34 | 0.10 | -0.17 | -0.35 | -0.42 | -0.33 | -0.08 | 0.18 |  0.35 | 0.42 |\n",
       "| PACF | 0.59 | -0.26 | -0.29 | -0.49 | -0.38 | -0.21 |  0.04 | 0.08 | 0.05 | 0.13 | ... | -0.11 | 0.03 | -0.02 |  0.00 |  0.03 |  0.01 | -0.03 | 0.03 | -0.03 | 0.00 |\n",
       "\n"
      ],
      "text/plain": [
       "     [,1] [,2]  [,3]  [,4]  [,5]  [,6]  [,7]  [,8] [,9] [,10] [,11] [,12] [,13]\n",
       "ACF  0.59  0.19 -0.19 -0.58 -0.74 -0.58 -0.20 0.22 0.53 0.69  ...    0.34 0.10 \n",
       "PACF 0.59 -0.26 -0.29 -0.49 -0.38 -0.21  0.04 0.08 0.05 0.13  ...   -0.11 0.03 \n",
       "     [,14] [,15] [,16] [,17] [,18] [,19] [,20] [,21]\n",
       "ACF  -0.17 -0.35 -0.42 -0.33 -0.08 0.18   0.35 0.42 \n",
       "PACF -0.02  0.00  0.03  0.01 -0.03 0.03  -0.03 0.00 "
      ]
     },
     "metadata": {},
     "output_type": "display_data"
    },
    {
     "data": {
      "image/png": "[encoded data removed]",
      "text/plain": [
       "Plot with title \"Series:  residuals2\""
      ]
     },
     "metadata": {},
     "output_type": "display_data"
    }
   ],
   "source": [
    "#Analizamos ACF y PACF\n",
    "acf2(residuals2)"
   ]
  },
  {
   "cell_type": "markdown",
   "metadata": {},
   "source": [
    "#### 2. Ajuste del modelo de la forma:  𝑥𝑡=𝛽1+𝛽2cos(2𝜋𝑡)+𝛽3sin(2𝜋𝑡)+𝛽4cos(2∗𝜋2𝑡)+𝛽5sin(2𝜋2𝑡).  "
   ]
  },
  {
   "cell_type": "code",
   "execution_count": 23,
   "metadata": {},
   "outputs": [
    {
     "data": {
      "text/plain": [
       "\n",
       "Call:\n",
       "lm(formula = x_2 ~ 0 + cos(2 * pi * t) + sin(2 * pi * t) + cos(4 * \n",
       "    pi * t) + sin(4 * pi * t), na.action = NULL)\n",
       "\n",
       "Residuals:\n",
       "     Min       1Q   Median       3Q      Max \n",
       "-0.47766 -0.12608  0.00771  0.13785  0.58704 \n",
       "\n",
       "Coefficients:\n",
       "                Estimate Std. Error t value Pr(>|t|)    \n",
       "cos(2 * pi * t)  0.98674    0.02118  46.586   <2e-16 ***\n",
       "sin(2 * pi * t)  1.01761    0.02129  47.807   <2e-16 ***\n",
       "cos(4 * pi * t)  0.49238    0.02118  23.246   <2e-16 ***\n",
       "sin(4 * pi * t) -0.03755    0.02129  -1.764   0.0792 .  \n",
       "---\n",
       "Signif. codes:  0 '***' 0.001 '**' 0.01 '*' 0.05 '.' 0.1 ' ' 1\n",
       "\n",
       "Residual standard error: 0.2129 on 197 degrees of freedom\n",
       "Multiple R-squared:  0.9622,\tAdjusted R-squared:  0.9615 \n",
       "F-statistic:  1255 on 4 and 197 DF,  p-value: < 2.2e-16\n"
      ]
     },
     "metadata": {},
     "output_type": "display_data"
    }
   ],
   "source": [
    "fit3 = lm(x_2 ~ 0 + cos(2*pi*t) + sin(2*pi*t) + cos(4*pi*t) + sin(4*pi*t), na.action=NULL)\n",
    "\n",
    "summary(fit3)"
   ]
  },
  {
   "cell_type": "code",
   "execution_count": 24,
   "metadata": {},
   "outputs": [
    {
     "data": {
      "image/png": "[encoded data removed]",
      "text/plain": [
       "plot without title"
      ]
     },
     "metadata": {},
     "output_type": "display_data"
    }
   ],
   "source": [
    "predictions = ts(fitted(fit3), start = 0, frequency=20) #Creo una serie temporal con los valores ajustados.\n",
    "tsplot(x_2)\n",
    "lines(predictions, col=\"darkcyan\", lwd=2)"
   ]
  },
  {
   "cell_type": "code",
   "execution_count": 26,
   "metadata": {},
   "outputs": [
    {
     "data": {
      "image/png": "[encoded data removed]",
      "text/plain": [
       "plot without title"
      ]
     },
     "metadata": {},
     "output_type": "display_data"
    }
   ],
   "source": [
    "residuals3 = residuals(fit3)\n",
    "tsplot(residuals3)"
   ]
  },
  {
   "cell_type": "code",
   "execution_count": 27,
   "metadata": {},
   "outputs": [
    {
     "data": {
      "image/png": "[encoded data removed]",
      "text/plain": [
       "Plot with title \"Normal Q-Q Plot\""
      ]
     },
     "metadata": {},
     "output_type": "display_data"
    }
   ],
   "source": [
    "qqnorm(residuals3)\n",
    "qqline(residuals3)"
   ]
  },
  {
   "cell_type": "code",
   "execution_count": 28,
   "metadata": {},
   "outputs": [
    {
     "data": {
      "text/html": [
       "<table>\n",
       "<caption>A matrix: 2 × 80 of type dbl</caption>\n",
       "<tbody>\n",
       "\t<tr><th scope=row>ACF</th><td>0.01</td><td>-0.1</td><td>0.15</td><td> 0.00</td><td>-0.11</td><td>-0.07</td><td>0.02</td><td>-0.04</td><td>-0.12</td><td>0.03</td><td>...</td><td> 0.01</td><td>0.03</td><td>0.02</td><td>0.13</td><td>0.08</td><td>0.02</td><td> 0.07</td><td> 0.02</td><td>-0.10</td><td>-0.01</td></tr>\n",
       "\t<tr><th scope=row>PACF</th><td>0.01</td><td>-0.1</td><td>0.16</td><td>-0.02</td><td>-0.09</td><td>-0.09</td><td>0.01</td><td>-0.03</td><td>-0.10</td><td>0.01</td><td>...</td><td>-0.09</td><td>0.06</td><td>0.02</td><td>0.02</td><td>0.04</td><td>0.04</td><td>-0.04</td><td>-0.02</td><td>-0.11</td><td>-0.06</td></tr>\n",
       "</tbody>\n",
       "</table>\n"
      ],
      "text/latex": [
       "A matrix: 2 × 80 of type dbl\n",
       "\\begin{tabular}{r|lllllllllllllllllllll}\n",
       "\tACF & 0.01 & -0.1 & 0.15 &  0.00 & -0.11 & -0.07 & 0.02 & -0.04 & -0.12 & 0.03 & ... &  0.01 & 0.03 & 0.02 & 0.13 & 0.08 & 0.02 &  0.07 &  0.02 & -0.10 & -0.01\\\\\n",
       "\tPACF & 0.01 & -0.1 & 0.16 & -0.02 & -0.09 & -0.09 & 0.01 & -0.03 & -0.10 & 0.01 & ... & -0.09 & 0.06 & 0.02 & 0.02 & 0.04 & 0.04 & -0.04 & -0.02 & -0.11 & -0.06\\\\\n",
       "\\end{tabular}\n"
      ],
      "text/markdown": [
       "\n",
       "A matrix: 2 × 80 of type dbl\n",
       "\n",
       "| ACF | 0.01 | -0.1 | 0.15 |  0.00 | -0.11 | -0.07 | 0.02 | -0.04 | -0.12 | 0.03 | ... |  0.01 | 0.03 | 0.02 | 0.13 | 0.08 | 0.02 |  0.07 |  0.02 | -0.10 | -0.01 |\n",
       "| PACF | 0.01 | -0.1 | 0.16 | -0.02 | -0.09 | -0.09 | 0.01 | -0.03 | -0.10 | 0.01 | ... | -0.09 | 0.06 | 0.02 | 0.02 | 0.04 | 0.04 | -0.04 | -0.02 | -0.11 | -0.06 |\n",
       "\n"
      ],
      "text/plain": [
       "     [,1] [,2] [,3] [,4]  [,5]  [,6]  [,7] [,8]  [,9]  [,10] [,11] [,12] [,13]\n",
       "ACF  0.01 -0.1 0.15  0.00 -0.11 -0.07 0.02 -0.04 -0.12 0.03  ...    0.01 0.03 \n",
       "PACF 0.01 -0.1 0.16 -0.02 -0.09 -0.09 0.01 -0.03 -0.10 0.01  ...   -0.09 0.06 \n",
       "     [,14] [,15] [,16] [,17] [,18] [,19] [,20] [,21]\n",
       "ACF  0.02  0.13  0.08  0.02   0.07  0.02 -0.10 -0.01\n",
       "PACF 0.02  0.02  0.04  0.04  -0.04 -0.02 -0.11 -0.06"
      ]
     },
     "metadata": {},
     "output_type": "display_data"
    },
    {
     "data": {
      "image/png": "[encoded data removed]",
      "text/plain": [
       "Plot with title \"Series:  residuals3\""
      ]
     },
     "metadata": {},
     "output_type": "display_data"
    }
   ],
   "source": [
    "acf2(residuals3)"
   ]
  },
  {
   "cell_type": "code",
   "execution_count": 29,
   "metadata": {},
   "outputs": [
    {
     "data": {
      "text/html": [
       "216.575074543103"
      ],
      "text/latex": [
       "216.575074543103"
      ],
      "text/markdown": [
       "216.575074543103"
      ],
      "text/plain": [
       "[1] 216.5751"
      ]
     },
     "metadata": {},
     "output_type": "display_data"
    },
    {
     "data": {
      "text/html": [
       "226.484989267281"
      ],
      "text/latex": [
       "226.484989267281"
      ],
      "text/markdown": [
       "226.484989267281"
      ],
      "text/plain": [
       "[1] 226.485"
      ]
     },
     "metadata": {},
     "output_type": "display_data"
    },
    {
     "data": {
      "text/html": [
       "-45.5741962813584"
      ],
      "text/latex": [
       "-45.5741962813584"
      ],
      "text/markdown": [
       "-45.5741962813584"
      ],
      "text/plain": [
       "[1] -45.5742"
      ]
     },
     "metadata": {},
     "output_type": "display_data"
    },
    {
     "data": {
      "text/html": [
       "-29.057671741063"
      ],
      "text/latex": [
       "-29.057671741063"
      ],
      "text/markdown": [
       "-29.057671741063"
      ],
      "text/plain": [
       "[1] -29.05767"
      ]
     },
     "metadata": {},
     "output_type": "display_data"
    }
   ],
   "source": [
    "# Comparamos los valores de AIC y BIC de ambos modelos\n",
    "\n",
    "AIC(fit2)\n",
    "BIC(fit2)\n",
    "\n",
    "AIC(fit3)\n",
    "BIC(fit3)"
   ]
  },
  {
   "cell_type": "markdown",
   "metadata": {},
   "source": [
    "Tanto del análisis de los gráficos de QQplot, ACF y de los criterios de información de Akaike y Bayesiano podemos ver que el ajuste del segundo modelo (fit3) es significativamente mejor que el anterior, logrando captar de mejor manera los componentes estacionales de la serie. "
   ]
  },
  {
   "cell_type": "markdown",
   "metadata": {},
   "source": []
  }
 ],
 "metadata": {
  "kernelspec": {
   "display_name": "R",
   "language": "R",
   "name": "ir"
  },
  "language_info": {
   "codemirror_mode": "r",
   "file_extension": ".r",
   "mimetype": "text/x-r-source",
   "name": "R",
   "pygments_lexer": "r",
   "version": "3.6.1"
  }
 },
 "nbformat": 4,
 "nbformat_minor": 4
}
